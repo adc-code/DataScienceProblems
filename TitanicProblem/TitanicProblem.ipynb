{
 "cells": [
  {
   "cell_type": "markdown",
   "metadata": {},
   "source": [
    "# The Titanic Problem..."
   ]
  },
  {
   "cell_type": "markdown",
   "metadata": {},
   "source": [
    "The goal is to train the best model you can using the training data, then make your predictions on the test data"
   ]
  },
  {
   "cell_type": "code",
   "execution_count": 1,
   "metadata": {},
   "outputs": [],
   "source": [
    "import pandas as pd\n",
    "import numpy as np\n",
    "import matplotlib.pyplot as plt"
   ]
  },
  {
   "cell_type": "code",
   "execution_count": 2,
   "metadata": {},
   "outputs": [],
   "source": [
    "rawTrainingData = pd.read_csv ('train.csv')\n",
    "rawTestData     = pd.read_csv ('test.csv')"
   ]
  },
  {
   "cell_type": "code",
   "execution_count": 3,
   "metadata": {},
   "outputs": [
    {
     "data": {
      "text/html": [
       "<div>\n",
       "<style scoped>\n",
       "    .dataframe tbody tr th:only-of-type {\n",
       "        vertical-align: middle;\n",
       "    }\n",
       "\n",
       "    .dataframe tbody tr th {\n",
       "        vertical-align: top;\n",
       "    }\n",
       "\n",
       "    .dataframe thead th {\n",
       "        text-align: right;\n",
       "    }\n",
       "</style>\n",
       "<table border=\"1\" class=\"dataframe\">\n",
       "  <thead>\n",
       "    <tr style=\"text-align: right;\">\n",
       "      <th></th>\n",
       "      <th>PassengerId</th>\n",
       "      <th>Survived</th>\n",
       "      <th>Pclass</th>\n",
       "      <th>Name</th>\n",
       "      <th>Sex</th>\n",
       "      <th>Age</th>\n",
       "      <th>SibSp</th>\n",
       "      <th>Parch</th>\n",
       "      <th>Ticket</th>\n",
       "      <th>Fare</th>\n",
       "      <th>Cabin</th>\n",
       "      <th>Embarked</th>\n",
       "    </tr>\n",
       "  </thead>\n",
       "  <tbody>\n",
       "    <tr>\n",
       "      <td>0</td>\n",
       "      <td>1</td>\n",
       "      <td>0</td>\n",
       "      <td>3</td>\n",
       "      <td>Braund, Mr. Owen Harris</td>\n",
       "      <td>male</td>\n",
       "      <td>22.0</td>\n",
       "      <td>1</td>\n",
       "      <td>0</td>\n",
       "      <td>A/5 21171</td>\n",
       "      <td>7.2500</td>\n",
       "      <td>NaN</td>\n",
       "      <td>S</td>\n",
       "    </tr>\n",
       "    <tr>\n",
       "      <td>1</td>\n",
       "      <td>2</td>\n",
       "      <td>1</td>\n",
       "      <td>1</td>\n",
       "      <td>Cumings, Mrs. John Bradley (Florence Briggs Th...</td>\n",
       "      <td>female</td>\n",
       "      <td>38.0</td>\n",
       "      <td>1</td>\n",
       "      <td>0</td>\n",
       "      <td>PC 17599</td>\n",
       "      <td>71.2833</td>\n",
       "      <td>C85</td>\n",
       "      <td>C</td>\n",
       "    </tr>\n",
       "    <tr>\n",
       "      <td>2</td>\n",
       "      <td>3</td>\n",
       "      <td>1</td>\n",
       "      <td>3</td>\n",
       "      <td>Heikkinen, Miss. Laina</td>\n",
       "      <td>female</td>\n",
       "      <td>26.0</td>\n",
       "      <td>0</td>\n",
       "      <td>0</td>\n",
       "      <td>STON/O2. 3101282</td>\n",
       "      <td>7.9250</td>\n",
       "      <td>NaN</td>\n",
       "      <td>S</td>\n",
       "    </tr>\n",
       "    <tr>\n",
       "      <td>3</td>\n",
       "      <td>4</td>\n",
       "      <td>1</td>\n",
       "      <td>1</td>\n",
       "      <td>Futrelle, Mrs. Jacques Heath (Lily May Peel)</td>\n",
       "      <td>female</td>\n",
       "      <td>35.0</td>\n",
       "      <td>1</td>\n",
       "      <td>0</td>\n",
       "      <td>113803</td>\n",
       "      <td>53.1000</td>\n",
       "      <td>C123</td>\n",
       "      <td>S</td>\n",
       "    </tr>\n",
       "    <tr>\n",
       "      <td>4</td>\n",
       "      <td>5</td>\n",
       "      <td>0</td>\n",
       "      <td>3</td>\n",
       "      <td>Allen, Mr. William Henry</td>\n",
       "      <td>male</td>\n",
       "      <td>35.0</td>\n",
       "      <td>0</td>\n",
       "      <td>0</td>\n",
       "      <td>373450</td>\n",
       "      <td>8.0500</td>\n",
       "      <td>NaN</td>\n",
       "      <td>S</td>\n",
       "    </tr>\n",
       "  </tbody>\n",
       "</table>\n",
       "</div>"
      ],
      "text/plain": [
       "   PassengerId  Survived  Pclass  \\\n",
       "0            1         0       3   \n",
       "1            2         1       1   \n",
       "2            3         1       3   \n",
       "3            4         1       1   \n",
       "4            5         0       3   \n",
       "\n",
       "                                                Name     Sex   Age  SibSp  \\\n",
       "0                            Braund, Mr. Owen Harris    male  22.0      1   \n",
       "1  Cumings, Mrs. John Bradley (Florence Briggs Th...  female  38.0      1   \n",
       "2                             Heikkinen, Miss. Laina  female  26.0      0   \n",
       "3       Futrelle, Mrs. Jacques Heath (Lily May Peel)  female  35.0      1   \n",
       "4                           Allen, Mr. William Henry    male  35.0      0   \n",
       "\n",
       "   Parch            Ticket     Fare Cabin Embarked  \n",
       "0      0         A/5 21171   7.2500   NaN        S  \n",
       "1      0          PC 17599  71.2833   C85        C  \n",
       "2      0  STON/O2. 3101282   7.9250   NaN        S  \n",
       "3      0            113803  53.1000  C123        S  \n",
       "4      0            373450   8.0500   NaN        S  "
      ]
     },
     "execution_count": 3,
     "metadata": {},
     "output_type": "execute_result"
    }
   ],
   "source": [
    "# Look at the first few lines of data to see if it was loaded ok...\n",
    "rawTrainingData.head ()"
   ]
  },
  {
   "cell_type": "code",
   "execution_count": 4,
   "metadata": {},
   "outputs": [
    {
     "data": {
      "text/html": [
       "<div>\n",
       "<style scoped>\n",
       "    .dataframe tbody tr th:only-of-type {\n",
       "        vertical-align: middle;\n",
       "    }\n",
       "\n",
       "    .dataframe tbody tr th {\n",
       "        vertical-align: top;\n",
       "    }\n",
       "\n",
       "    .dataframe thead th {\n",
       "        text-align: right;\n",
       "    }\n",
       "</style>\n",
       "<table border=\"1\" class=\"dataframe\">\n",
       "  <thead>\n",
       "    <tr style=\"text-align: right;\">\n",
       "      <th></th>\n",
       "      <th>PassengerId</th>\n",
       "      <th>Pclass</th>\n",
       "      <th>Name</th>\n",
       "      <th>Sex</th>\n",
       "      <th>Age</th>\n",
       "      <th>SibSp</th>\n",
       "      <th>Parch</th>\n",
       "      <th>Ticket</th>\n",
       "      <th>Fare</th>\n",
       "      <th>Cabin</th>\n",
       "      <th>Embarked</th>\n",
       "    </tr>\n",
       "  </thead>\n",
       "  <tbody>\n",
       "    <tr>\n",
       "      <td>0</td>\n",
       "      <td>892</td>\n",
       "      <td>3</td>\n",
       "      <td>Kelly, Mr. James</td>\n",
       "      <td>male</td>\n",
       "      <td>34.5</td>\n",
       "      <td>0</td>\n",
       "      <td>0</td>\n",
       "      <td>330911</td>\n",
       "      <td>7.8292</td>\n",
       "      <td>NaN</td>\n",
       "      <td>Q</td>\n",
       "    </tr>\n",
       "    <tr>\n",
       "      <td>1</td>\n",
       "      <td>893</td>\n",
       "      <td>3</td>\n",
       "      <td>Wilkes, Mrs. James (Ellen Needs)</td>\n",
       "      <td>female</td>\n",
       "      <td>47.0</td>\n",
       "      <td>1</td>\n",
       "      <td>0</td>\n",
       "      <td>363272</td>\n",
       "      <td>7.0000</td>\n",
       "      <td>NaN</td>\n",
       "      <td>S</td>\n",
       "    </tr>\n",
       "    <tr>\n",
       "      <td>2</td>\n",
       "      <td>894</td>\n",
       "      <td>2</td>\n",
       "      <td>Myles, Mr. Thomas Francis</td>\n",
       "      <td>male</td>\n",
       "      <td>62.0</td>\n",
       "      <td>0</td>\n",
       "      <td>0</td>\n",
       "      <td>240276</td>\n",
       "      <td>9.6875</td>\n",
       "      <td>NaN</td>\n",
       "      <td>Q</td>\n",
       "    </tr>\n",
       "    <tr>\n",
       "      <td>3</td>\n",
       "      <td>895</td>\n",
       "      <td>3</td>\n",
       "      <td>Wirz, Mr. Albert</td>\n",
       "      <td>male</td>\n",
       "      <td>27.0</td>\n",
       "      <td>0</td>\n",
       "      <td>0</td>\n",
       "      <td>315154</td>\n",
       "      <td>8.6625</td>\n",
       "      <td>NaN</td>\n",
       "      <td>S</td>\n",
       "    </tr>\n",
       "    <tr>\n",
       "      <td>4</td>\n",
       "      <td>896</td>\n",
       "      <td>3</td>\n",
       "      <td>Hirvonen, Mrs. Alexander (Helga E Lindqvist)</td>\n",
       "      <td>female</td>\n",
       "      <td>22.0</td>\n",
       "      <td>1</td>\n",
       "      <td>1</td>\n",
       "      <td>3101298</td>\n",
       "      <td>12.2875</td>\n",
       "      <td>NaN</td>\n",
       "      <td>S</td>\n",
       "    </tr>\n",
       "  </tbody>\n",
       "</table>\n",
       "</div>"
      ],
      "text/plain": [
       "   PassengerId  Pclass                                          Name     Sex  \\\n",
       "0          892       3                              Kelly, Mr. James    male   \n",
       "1          893       3              Wilkes, Mrs. James (Ellen Needs)  female   \n",
       "2          894       2                     Myles, Mr. Thomas Francis    male   \n",
       "3          895       3                              Wirz, Mr. Albert    male   \n",
       "4          896       3  Hirvonen, Mrs. Alexander (Helga E Lindqvist)  female   \n",
       "\n",
       "    Age  SibSp  Parch   Ticket     Fare Cabin Embarked  \n",
       "0  34.5      0      0   330911   7.8292   NaN        Q  \n",
       "1  47.0      1      0   363272   7.0000   NaN        S  \n",
       "2  62.0      0      0   240276   9.6875   NaN        Q  \n",
       "3  27.0      0      0   315154   8.6625   NaN        S  \n",
       "4  22.0      1      1  3101298  12.2875   NaN        S  "
      ]
     },
     "execution_count": 4,
     "metadata": {},
     "output_type": "execute_result"
    }
   ],
   "source": [
    "rawTestData.head ()"
   ]
  },
  {
   "cell_type": "markdown",
   "metadata": {},
   "source": [
    "From the webpage we are told a few things about the data...\n",
    "\n",
    "* Name, Sex, Age: are pretty self-explanatory\n",
    "* Survived: that's the target: 0 means the passenger did not survive, while 1 means they survived.\n",
    "* Pclass: passenger class.\n",
    "* SibSp: how many siblings and/or spouses of the passenger aboard the Titanic.\n",
    "* Parch: how many parents/children passengers were aboard the Titanic.\n",
    "* Ticket: ticket id\n",
    "* Fare: price paid (in pounds)\n",
    "* Cabin: passenger's cabin number\n",
    "* Embarked: where the passenger embarked (boarded) the Titanic"
   ]
  },
  {
   "cell_type": "code",
   "execution_count": 5,
   "metadata": {},
   "outputs": [
    {
     "name": "stdout",
     "output_type": "stream",
     "text": [
      "<class 'pandas.core.frame.DataFrame'>\n",
      "RangeIndex: 891 entries, 0 to 890\n",
      "Data columns (total 12 columns):\n",
      "PassengerId    891 non-null int64\n",
      "Survived       891 non-null int64\n",
      "Pclass         891 non-null int64\n",
      "Name           891 non-null object\n",
      "Sex            891 non-null object\n",
      "Age            714 non-null float64\n",
      "SibSp          891 non-null int64\n",
      "Parch          891 non-null int64\n",
      "Ticket         891 non-null object\n",
      "Fare           891 non-null float64\n",
      "Cabin          204 non-null object\n",
      "Embarked       889 non-null object\n",
      "dtypes: float64(2), int64(5), object(5)\n",
      "memory usage: 83.7+ KB\n"
     ]
    }
   ],
   "source": [
    "# Look if any data is missing...\n",
    "rawTrainingData.info ()"
   ]
  },
  {
   "cell_type": "code",
   "execution_count": 6,
   "metadata": {},
   "outputs": [
    {
     "name": "stdout",
     "output_type": "stream",
     "text": [
      "<class 'pandas.core.frame.DataFrame'>\n",
      "RangeIndex: 418 entries, 0 to 417\n",
      "Data columns (total 11 columns):\n",
      "PassengerId    418 non-null int64\n",
      "Pclass         418 non-null int64\n",
      "Name           418 non-null object\n",
      "Sex            418 non-null object\n",
      "Age            332 non-null float64\n",
      "SibSp          418 non-null int64\n",
      "Parch          418 non-null int64\n",
      "Ticket         418 non-null object\n",
      "Fare           417 non-null float64\n",
      "Cabin          91 non-null object\n",
      "Embarked       418 non-null object\n",
      "dtypes: float64(2), int64(4), object(5)\n",
      "memory usage: 36.0+ KB\n"
     ]
    }
   ],
   "source": [
    "rawTestData.info ()"
   ]
  },
  {
   "cell_type": "markdown",
   "metadata": {},
   "source": [
    "Most things look ok except **Age**, **Cabin**, **Fare**, and **Embarked**."
   ]
  },
  {
   "cell_type": "markdown",
   "metadata": {},
   "source": [
    "**Cabin** "
   ]
  },
  {
   "cell_type": "code",
   "execution_count": 7,
   "metadata": {},
   "outputs": [
    {
     "data": {
      "text/plain": [
       "B96 B98        4\n",
       "C23 C25 C27    4\n",
       "G6             4\n",
       "C22 C26        3\n",
       "E101           3\n",
       "              ..\n",
       "C99            1\n",
       "B38            1\n",
       "C148           1\n",
       "C45            1\n",
       "C104           1\n",
       "Name: Cabin, Length: 147, dtype: int64"
      ]
     },
     "execution_count": 7,
     "metadata": {},
     "output_type": "execute_result"
    }
   ],
   "source": [
    "rawTrainingData['Cabin'].value_counts ()"
   ]
  },
  {
   "cell_type": "markdown",
   "metadata": {},
   "source": [
    "There is a lot of missing Cabin values.  Also there is no noticable pattern.  Hence it will be removed/dropped from the dataset. "
   ]
  },
  {
   "cell_type": "markdown",
   "metadata": {},
   "source": [
    "**Age**"
   ]
  },
  {
   "cell_type": "code",
   "execution_count": 8,
   "metadata": {},
   "outputs": [
    {
     "name": "stderr",
     "output_type": "stream",
     "text": [
      "/Users/dennis/opt/anaconda3/lib/python3.7/site-packages/numpy/lib/histograms.py:829: RuntimeWarning: invalid value encountered in greater_equal\n",
      "  keep = (tmp_a >= first_edge)\n",
      "/Users/dennis/opt/anaconda3/lib/python3.7/site-packages/numpy/lib/histograms.py:830: RuntimeWarning: invalid value encountered in less_equal\n",
      "  keep &= (tmp_a <= last_edge)\n"
     ]
    },
    {
     "data": {
      "image/png": "[encoded data removed]",
      "text/plain": [
       "<Figure size 432x288 with 1 Axes>"
      ]
     },
     "metadata": {
      "needs_background": "light"
     },
     "output_type": "display_data"
    }
   ],
   "source": [
    "# first plot the age distribution\n",
    "plt.figure ()\n",
    "plt.hist (rawTrainingData['Age'])\n",
    "plt.show ()"
   ]
  },
  {
   "cell_type": "markdown",
   "metadata": {},
   "source": [
    "Since the age isn't a nice normal distribution, we shall use the median to fill in the missing values"
   ]
  },
  {
   "cell_type": "code",
   "execution_count": 9,
   "metadata": {},
   "outputs": [
    {
     "data": {
      "text/plain": [
       "28.0"
      ]
     },
     "execution_count": 9,
     "metadata": {},
     "output_type": "execute_result"
    }
   ],
   "source": [
    "rawTrainingData['Age'].median ()"
   ]
  },
  {
   "cell_type": "markdown",
   "metadata": {},
   "source": [
    "**Fare**"
   ]
  },
  {
   "cell_type": "markdown",
   "metadata": {},
   "source": [
    "It seems like only one value is missing.  First we shall plot the data..."
   ]
  },
  {
   "cell_type": "code",
   "execution_count": 10,
   "metadata": {},
   "outputs": [
    {
     "data": {
      "image/png": "[encoded data removed]",
      "text/plain": [
       "<Figure size 432x288 with 1 Axes>"
      ]
     },
     "metadata": {
      "needs_background": "light"
     },
     "output_type": "display_data"
    }
   ],
   "source": [
    "plt.figure ()\n",
    "plt.hist (rawTrainingData['Fare'], bins=30)\n",
    "plt.show ()"
   ]
  },
  {
   "cell_type": "code",
   "execution_count": 11,
   "metadata": {},
   "outputs": [
    {
     "data": {
      "text/plain": [
       "14.4542"
      ]
     },
     "execution_count": 11,
     "metadata": {},
     "output_type": "execute_result"
    }
   ],
   "source": [
    "# look the the median value...\n",
    "rawTrainingData['Fare'].median ()"
   ]
  },
  {
   "cell_type": "code",
   "execution_count": 12,
   "metadata": {},
   "outputs": [
    {
     "data": {
      "text/plain": [
       "(25, 1000]    334\n",
       "(0, 10]       321\n",
       "(10, 25]      221\n",
       "Name: Fare, dtype: int64"
      ]
     },
     "execution_count": 12,
     "metadata": {},
     "output_type": "execute_result"
    }
   ],
   "source": [
    "pd.cut (rawTrainingData['Fare'], [0, 10, 25, 1000]).value_counts()"
   ]
  },
  {
   "cell_type": "markdown",
   "metadata": {},
   "source": [
    "**Embarked**"
   ]
  },
  {
   "cell_type": "code",
   "execution_count": 13,
   "metadata": {},
   "outputs": [
    {
     "data": {
      "text/plain": [
       "S    644\n",
       "C    168\n",
       "Q     77\n",
       "Name: Embarked, dtype: int64"
      ]
     },
     "execution_count": 13,
     "metadata": {},
     "output_type": "execute_result"
    }
   ],
   "source": [
    "rawTrainingData['Embarked'].value_counts()"
   ]
  },
  {
   "cell_type": "code",
   "execution_count": 14,
   "metadata": {},
   "outputs": [
    {
     "data": {
      "text/html": [
       "<div>\n",
       "<style scoped>\n",
       "    .dataframe tbody tr th:only-of-type {\n",
       "        vertical-align: middle;\n",
       "    }\n",
       "\n",
       "    .dataframe tbody tr th {\n",
       "        vertical-align: top;\n",
       "    }\n",
       "\n",
       "    .dataframe thead th {\n",
       "        text-align: right;\n",
       "    }\n",
       "</style>\n",
       "<table border=\"1\" class=\"dataframe\">\n",
       "  <thead>\n",
       "    <tr style=\"text-align: right;\">\n",
       "      <th></th>\n",
       "      <th>PassengerId</th>\n",
       "      <th>Survived</th>\n",
       "      <th>Pclass</th>\n",
       "      <th>Name</th>\n",
       "      <th>Sex</th>\n",
       "      <th>Age</th>\n",
       "      <th>SibSp</th>\n",
       "      <th>Parch</th>\n",
       "      <th>Ticket</th>\n",
       "      <th>Fare</th>\n",
       "      <th>Cabin</th>\n",
       "      <th>Embarked</th>\n",
       "    </tr>\n",
       "  </thead>\n",
       "  <tbody>\n",
       "    <tr>\n",
       "      <td>61</td>\n",
       "      <td>62</td>\n",
       "      <td>1</td>\n",
       "      <td>1</td>\n",
       "      <td>Icard, Miss. Amelie</td>\n",
       "      <td>female</td>\n",
       "      <td>38.0</td>\n",
       "      <td>0</td>\n",
       "      <td>0</td>\n",
       "      <td>113572</td>\n",
       "      <td>80.0</td>\n",
       "      <td>B28</td>\n",
       "      <td>NaN</td>\n",
       "    </tr>\n",
       "    <tr>\n",
       "      <td>829</td>\n",
       "      <td>830</td>\n",
       "      <td>1</td>\n",
       "      <td>1</td>\n",
       "      <td>Stone, Mrs. George Nelson (Martha Evelyn)</td>\n",
       "      <td>female</td>\n",
       "      <td>62.0</td>\n",
       "      <td>0</td>\n",
       "      <td>0</td>\n",
       "      <td>113572</td>\n",
       "      <td>80.0</td>\n",
       "      <td>B28</td>\n",
       "      <td>NaN</td>\n",
       "    </tr>\n",
       "  </tbody>\n",
       "</table>\n",
       "</div>"
      ],
      "text/plain": [
       "     PassengerId  Survived  Pclass                                       Name  \\\n",
       "61            62         1       1                        Icard, Miss. Amelie   \n",
       "829          830         1       1  Stone, Mrs. George Nelson (Martha Evelyn)   \n",
       "\n",
       "        Sex   Age  SibSp  Parch  Ticket  Fare Cabin Embarked  \n",
       "61   female  38.0      0      0  113572  80.0   B28      NaN  \n",
       "829  female  62.0      0      0  113572  80.0   B28      NaN  "
      ]
     },
     "execution_count": 14,
     "metadata": {},
     "output_type": "execute_result"
    }
   ],
   "source": [
    "rawTrainingData[rawTrainingData['Embarked'].isna()]"
   ]
  },
  {
   "cell_type": "markdown",
   "metadata": {},
   "source": [
    "There is something funny with this... both had the same ticket number, stayed in the same room, one was french and married, the other was single and english.  Perhaps it is best to drop these two rows."
   ]
  },
  {
   "cell_type": "markdown",
   "metadata": {},
   "source": [
    "**Sex**"
   ]
  },
  {
   "cell_type": "code",
   "execution_count": 15,
   "metadata": {},
   "outputs": [
    {
     "data": {
      "text/plain": [
       "male      577\n",
       "female    314\n",
       "Name: Sex, dtype: int64"
      ]
     },
     "execution_count": 15,
     "metadata": {},
     "output_type": "execute_result"
    }
   ],
   "source": [
    "rawTrainingData['Sex'].value_counts()"
   ]
  },
  {
   "cell_type": "markdown",
   "metadata": {},
   "source": [
    "this is easy enough to convert to a numeric value"
   ]
  },
  {
   "cell_type": "markdown",
   "metadata": {},
   "source": [
    "**Ticket**"
   ]
  },
  {
   "cell_type": "code",
   "execution_count": 16,
   "metadata": {},
   "outputs": [
    {
     "data": {
      "text/plain": [
       "1601        7\n",
       "CA. 2343    7\n",
       "347082      7\n",
       "CA 2144     6\n",
       "347088      6\n",
       "           ..\n",
       "226593      1\n",
       "229236      1\n",
       "3101276     1\n",
       "112277      1\n",
       "248747      1\n",
       "Name: Ticket, Length: 681, dtype: int64"
      ]
     },
     "execution_count": 16,
     "metadata": {},
     "output_type": "execute_result"
    }
   ],
   "source": [
    "rawTrainingData['Ticket'].value_counts()"
   ]
  },
  {
   "cell_type": "markdown",
   "metadata": {},
   "source": [
    "The ticket column can be grouped together..."
   ]
  },
  {
   "cell_type": "code",
   "execution_count": 17,
   "metadata": {},
   "outputs": [
    {
     "data": {
      "text/plain": [
       "Ticket\n",
       "110152         3\n",
       "110413         3\n",
       "110465         2\n",
       "110564         1\n",
       "110813         1\n",
       "              ..\n",
       "W./C. 6608     4\n",
       "W./C. 6609     1\n",
       "W.E.P. 5734    1\n",
       "W/C 14208      1\n",
       "WE/P 5735      2\n",
       "Name: Ticket, Length: 681, dtype: int64"
      ]
     },
     "execution_count": 17,
     "metadata": {},
     "output_type": "execute_result"
    }
   ],
   "source": [
    "rawTrainingData.groupby(\"Ticket\")[\"Ticket\"].count()"
   ]
  },
  {
   "cell_type": "markdown",
   "metadata": {},
   "source": [
    "**Name**"
   ]
  },
  {
   "cell_type": "code",
   "execution_count": 18,
   "metadata": {},
   "outputs": [
    {
     "data": {
      "text/plain": [
       "0                                Braund, Mr. Owen Harris\n",
       "1      Cumings, Mrs. John Bradley (Florence Briggs Th...\n",
       "2                                 Heikkinen, Miss. Laina\n",
       "3           Futrelle, Mrs. Jacques Heath (Lily May Peel)\n",
       "4                               Allen, Mr. William Henry\n",
       "                             ...                        \n",
       "886                                Montvila, Rev. Juozas\n",
       "887                         Graham, Miss. Margaret Edith\n",
       "888             Johnston, Miss. Catherine Helen \"Carrie\"\n",
       "889                                Behr, Mr. Karl Howell\n",
       "890                                  Dooley, Mr. Patrick\n",
       "Name: Name, Length: 891, dtype: object"
      ]
     },
     "execution_count": 18,
     "metadata": {},
     "output_type": "execute_result"
    }
   ],
   "source": [
    "rawTrainingData['Name']"
   ]
  },
  {
   "cell_type": "code",
   "execution_count": 19,
   "metadata": {},
   "outputs": [
    {
     "data": {
      "text/plain": [
       "{'Mr.': 517,\n",
       " 'Mrs.': 127,\n",
       " 'Miss.': 184,\n",
       " 'Master.': 40,\n",
       " 'Important': 13,\n",
       " 'Other': 10}"
      ]
     },
     "execution_count": 19,
     "metadata": {},
     "output_type": "execute_result"
    }
   ],
   "source": [
    "titles = {'Mr.': 0, 'Mrs.': 0, 'Miss.': 0, 'Master.': 0, 'Important': 0, 'Other': 0}\n",
    "for i, name in enumerate (rawTrainingData['Name']):\n",
    "    nameTokens = name.split (' ')\n",
    "    if 'Mr.' in nameTokens:\n",
    "        titles['Mr.'] = titles['Mr.'] + 1\n",
    "        \n",
    "    elif 'Mrs.' in nameTokens or 'Mme.' in nameTokens or 'Ms.' in nameTokens:\n",
    "        titles['Mrs.'] = titles['Mrs.'] + 1\n",
    "            \n",
    "    elif 'Miss.' in nameTokens or 'Mlle.' in nameTokens:\n",
    "        titles['Miss.'] = titles['Miss.'] + 1\n",
    "            \n",
    "    elif 'Master.' in nameTokens:\n",
    "        titles['Master.'] = titles['Master.'] + 1\n",
    "            \n",
    "    elif 'Dr.' in nameTokens or 'Capt' in nameTokens or 'Col' in nameTokens or \\\n",
    "         'Major' in nameTokens or 'Rev.' in nameTokens: \n",
    "        titles['Important'] = titles['Important'] + 1\n",
    "            \n",
    "    else: # Sir, Lady, Countess, Jonkheer, and Don\n",
    "        titles['Other'] = titles['Other'] + 1\n",
    "        \n",
    "titles"
   ]
  },
  {
   "cell_type": "markdown",
   "metadata": {},
   "source": [
    "### Transforming the data..."
   ]
  },
  {
   "cell_type": "markdown",
   "metadata": {},
   "source": [
    "Lets make a function to clean up the data that will be used for both test and train sets"
   ]
  },
  {
   "cell_type": "code",
   "execution_count": 20,
   "metadata": {},
   "outputs": [],
   "source": [
    "def TransformData (dataset):\n",
    "    \n",
    "    # Drop for now drop cabin, name, and ticket... in the future we will might try to use them\n",
    "    transformedDataset = dataset.drop (['Cabin', 'Name', 'Ticket'], axis=1)    \n",
    "    \n",
    "    # Drop NA rows... looking at the embarked column...\n",
    "    transformedDataset.dropna (axis=0, subset=['Embarked'], inplace=True)\n",
    "    \n",
    "    # Fill any missing ages with the median\n",
    "    transformedDataset['Age'].fillna (transformedDataset['Age'].median(), inplace=True)\n",
    "    \n",
    "    # Fill any missing fares with the median\n",
    "    transformedDataset['Fare'].fillna (transformedDataset['Fare'].median(), inplace=True)\n",
    "        \n",
    "    # One hot encode of the PClass column\n",
    "    one_hot = pd.get_dummies (transformedDataset['Pclass'], prefix='PClass')\n",
    "    transformedDataset.drop (['Pclass'], axis=1, inplace=True)\n",
    "    transformedDataset = transformedDataset.join (one_hot)\n",
    "\n",
    "    # One hot encode of the Embarked column\n",
    "    one_hot = pd.get_dummies (transformedDataset['Embarked'], prefix='Embarked')\n",
    "    transformedDataset.drop (['Embarked'], axis=1, inplace=True)\n",
    "    transformedDataset = transformedDataset.join (one_hot)\n",
    "\n",
    "    # One hot encode of the Sex column\n",
    "    one_hot = pd.get_dummies (transformedDataset['Sex'], prefix='Sex')\n",
    "    transformedDataset.drop (['Sex'], axis=1, inplace=True)\n",
    "    transformedDataset = transformedDataset.join (one_hot)\n",
    "\n",
    "    return transformedDataset"
   ]
  },
  {
   "cell_type": "code",
   "execution_count": 21,
   "metadata": {},
   "outputs": [],
   "source": [
    "cleanedTrainingData = TransformData (rawTrainingData)"
   ]
  },
  {
   "cell_type": "code",
   "execution_count": 22,
   "metadata": {},
   "outputs": [],
   "source": [
    "# make xTrain and yTrain data...\n",
    "yTrain = cleanedTrainingData ['Survived']\n",
    "xTrain = cleanedTrainingData.drop (['Survived', 'PassengerId'], axis=1)"
   ]
  },
  {
   "cell_type": "code",
   "execution_count": 35,
   "metadata": {},
   "outputs": [],
   "source": [
    "from sklearn.svm import SVC\n",
    "from sklearn.ensemble import RandomForestClassifier\n",
    "from sklearn.linear_model import LogisticRegression\n",
    "import xgboost as xgb\n",
    "\n",
    "from sklearn.model_selection import cross_val_score"
   ]
  },
  {
   "cell_type": "code",
   "execution_count": 24,
   "metadata": {},
   "outputs": [
    {
     "data": {
      "text/plain": [
       "0.7323672114402452"
      ]
     },
     "execution_count": 24,
     "metadata": {},
     "output_type": "execute_result"
    }
   ],
   "source": [
    "svm_clf = SVC (gamma=\"auto\")\n",
    "svm_clf.fit (xTrain, yTrain)\n",
    "svm_scores = cross_val_score(svm_clf, xTrain, yTrain, cv=10)\n",
    "svm_scores.mean()"
   ]
  },
  {
   "cell_type": "code",
   "execution_count": 25,
   "metadata": {},
   "outputs": [
    {
     "name": "stderr",
     "output_type": "stream",
     "text": [
      "/Users/dennis/opt/anaconda3/lib/python3.7/site-packages/sklearn/ensemble/forest.py:245: FutureWarning: The default value of n_estimators will change from 10 in version 0.20 to 100 in 0.22.\n",
      "  \"10 in version 0.20 to 100 in 0.22.\", FutureWarning)\n"
     ]
    },
    {
     "data": {
      "text/plain": [
       "0.7975485188968335"
      ]
     },
     "execution_count": 25,
     "metadata": {},
     "output_type": "execute_result"
    }
   ],
   "source": [
    "rf_clf = RandomForestClassifier (random_state=0)\n",
    "rf_clf.fit (xTrain, yTrain)\n",
    "rf_scores = cross_val_score (rf_clf, xTrain, yTrain, cv=10)\n",
    "rf_scores.mean()"
   ]
  },
  {
   "cell_type": "code",
   "execution_count": 26,
   "metadata": {},
   "outputs": [
    {
     "data": {
      "text/plain": [
       "0.7987104187946884"
      ]
     },
     "execution_count": 26,
     "metadata": {},
     "output_type": "execute_result"
    }
   ],
   "source": [
    "logit_clf = LogisticRegression(random_state=0, solver='lbfgs', max_iter=10000)\n",
    "logit_clf.fit (xTrain, yTrain)\n",
    "logit_scores = cross_val_score (logit_clf, xTrain, yTrain, cv=10)\n",
    "logit_scores.mean()"
   ]
  },
  {
   "cell_type": "code",
   "execution_count": 27,
   "metadata": {},
   "outputs": [
    {
     "data": {
      "text/plain": [
       "0.8110061287027579"
      ]
     },
     "execution_count": 27,
     "metadata": {},
     "output_type": "execute_result"
    }
   ],
   "source": [
    "model = xgb.XGBClassifier()\n",
    "model.fit (xTrain, yTrain)\n",
    "xgbScores = cross_val_score (model, xTrain, yTrain, cv=10)\n",
    "xgbScores.mean()"
   ]
  },
  {
   "cell_type": "code",
   "execution_count": 28,
   "metadata": {},
   "outputs": [
    {
     "data": {
      "image/png": "[encoded data removed]",
      "text/plain": [
       "<Figure size 720x504 with 1 Axes>"
      ]
     },
     "metadata": {
      "needs_background": "light"
     },
     "output_type": "display_data"
    }
   ],
   "source": [
    "plt.figure(figsize=(10, 7))\n",
    "c = '#dddddd'\n",
    "plt.boxplot([svm_scores, rf_scores, logit_scores, xgbScores], \\\n",
    "            labels=(\"SVM\",\"Random Forest\", 'Logistic\\nRegression', 'XGBoost'),\\\n",
    "            patch_artist=True, zorder=1, boxprops=dict(facecolor=c, color=c))\n",
    "plt.plot([1]*10, svm_scores, \"o\")\n",
    "plt.plot([2]*10, rf_scores, \"o\")\n",
    "plt.plot([3]*10, logit_scores, \"o\")\n",
    "plt.plot([4]*10, xgbScores, \"o\")\n",
    "plt.ylabel(\"Accuracy\", fontsize=14)\n",
    "plt.grid (True, axis='y')\n",
    "plt.ylim ([0.650, 0.9])\n",
    "plt.show()"
   ]
  },
  {
   "cell_type": "markdown",
   "metadata": {},
   "source": [
    "Things are ok but can perhaps can be improved.  We shall try to improve the data a bit...\n",
    "* use the names to have titles\n",
    "* bin the fares and ages\n",
    "* classify the number of people someone is travelling with"
   ]
  },
  {
   "cell_type": "code",
   "execution_count": 29,
   "metadata": {},
   "outputs": [],
   "source": [
    "def TransformData_V2 (dataset):\n",
    "    \n",
    "    # Drop for now drop cabin, name, and ticket... in the future we will might try to use them\n",
    "    transformedDataset = dataset.drop (['Cabin'], axis=1)    \n",
    "    \n",
    "    transformedDataset['Title'] = 0\n",
    "    for i, name in enumerate (transformedDataset['Name']):\n",
    "        nameTokens = name.split (' ')\n",
    "        if 'Mr.' in nameTokens:\n",
    "            transformedDataset.iloc [i, transformedDataset.columns.get_loc('Title')] = 1\n",
    "            \n",
    "        elif 'Mrs.' in nameTokens or 'Mme.' in nameTokens or 'Ms.' in nameTokens:\n",
    "            transformedDataset.iloc [i, transformedDataset.columns.get_loc('Title')] = 2\n",
    "            \n",
    "        elif 'Miss.' in nameTokens or 'Mlle.' in nameTokens:\n",
    "            transformedDataset.iloc [i, transformedDataset.columns.get_loc('Title')] = 3\n",
    "            \n",
    "        elif 'Master.' in nameTokens:\n",
    "            transformedDataset.iloc [i, transformedDataset.columns.get_loc('Title')] = 4\n",
    "            \n",
    "        elif 'Dr.' in nameTokens or 'Capt' in nameTokens or 'Col' in nameTokens or \\\n",
    "             'Major' in nameTokens or 'Rev.' in nameTokens: \n",
    "            transformedDataset.iloc [i, transformedDataset.columns.get_loc('Title')] = 5\n",
    "            \n",
    "        else: # Sir, Lady, Countess, Jonkheer, and Don\n",
    "            transformedDataset.iloc [i, transformedDataset.columns.get_loc('Title')] = 6\n",
    "            \n",
    "    transformedDataset.drop (['Name'], axis=1, inplace=True)        \n",
    "    one_hot = pd.get_dummies (transformedDataset['Title'], prefix='Title')\n",
    "    transformedDataset.drop (['Title'], axis=1, inplace=True)\n",
    "    transformedDataset = transformedDataset.join (one_hot)\n",
    "    \n",
    "    transformedDataset['TicketCount'] = transformedDataset.groupby('Ticket')['Ticket'].transform('count')\n",
    "    transformedDataset.drop (['Ticket'], axis=1, inplace=True)\n",
    "    \n",
    "    transformedDataset['FamSize'] = transformedDataset['SibSp'] + transformedDataset['Parch']\n",
    "    transformedDataset['Single'] = transformedDataset['FamSize'].map(lambda s: 1 if s == 1 else 0)\n",
    "    transformedDataset['SmallFamily'] = transformedDataset['FamSize'].map(lambda s: 1 if 2 <= s <= 4 else 0)\n",
    "    transformedDataset['LargeFamily'] = transformedDataset['FamSize'].map(lambda s: 1 if 5 <= s else 0)\n",
    "\n",
    "    transformedDataset = transformedDataset.drop (['SibSp', 'Parch'], axis=1)  \n",
    "    \n",
    "    # Drop NA rows... looking at the embarked column...\n",
    "    transformedDataset.dropna (axis=0, subset=['Embarked'], inplace=True)\n",
    "    \n",
    "    # Fill any missing ages with the median\n",
    "    transformedDataset['Age'].fillna (transformedDataset['Age'].median(), inplace=True)\n",
    "    ageGroups = pd.cut (transformedDataset['Age'], bins=[0,15,30,45,60,100], labels=['A', 'B', 'C', 'D', 'E'])\n",
    "    transformedDataset.insert (5, 'AgeGroup', ageGroups)\n",
    "    one_hot = pd.get_dummies (transformedDataset['AgeGroup'], prefix='AgeGroup')\n",
    "    transformedDataset.drop (['AgeGroup'], axis=1, inplace=True)\n",
    "    transformedDataset = transformedDataset.join (one_hot)\n",
    "    \n",
    "    # Fill any missing fares with the median\n",
    "    transformedDataset['Fare'].fillna (transformedDataset['Fare'].median(), inplace=True)\n",
    "    fareGroups = pd.cut (transformedDataset['Fare'], bins=[0,10,25,1000], labels=['A', 'B', 'C'])\n",
    "    transformedDataset.insert (3, 'FareGroup', fareGroups)\n",
    "    one_hot = pd.get_dummies (transformedDataset['FareGroup'], prefix='FareGroup')\n",
    "    transformedDataset.drop (['FareGroup'], axis=1, inplace=True)\n",
    "    transformedDataset = transformedDataset.join (one_hot)    \n",
    "        \n",
    "    # One hot encode of the PClass column\n",
    "    one_hot = pd.get_dummies (transformedDataset['Pclass'], prefix='PClass')\n",
    "    transformedDataset.drop (['Pclass'], axis=1, inplace=True)\n",
    "    transformedDataset = transformedDataset.join (one_hot)\n",
    "\n",
    "    # One hot encode of the Embarked column\n",
    "    one_hot = pd.get_dummies (transformedDataset['Embarked'], prefix='Embarked')\n",
    "    transformedDataset.drop (['Embarked'], axis=1, inplace=True)\n",
    "    transformedDataset = transformedDataset.join (one_hot)\n",
    "\n",
    "    # One hot encode of the Sex column\n",
    "    one_hot = pd.get_dummies (transformedDataset['Sex'], prefix='Sex')\n",
    "    transformedDataset.drop (['Sex'], axis=1, inplace=True)\n",
    "    transformedDataset = transformedDataset.join (one_hot)\n",
    "\n",
    "    return transformedDataset"
   ]
  },
  {
   "cell_type": "code",
   "execution_count": 30,
   "metadata": {},
   "outputs": [
    {
     "name": "stdout",
     "output_type": "stream",
     "text": [
      "<class 'pandas.core.frame.DataFrame'>\n",
      "Int64Index: 889 entries, 0 to 890\n",
      "Data columns (total 31 columns):\n",
      "PassengerId    889 non-null int64\n",
      "Survived       889 non-null int64\n",
      "Age            889 non-null float64\n",
      "Fare           889 non-null float64\n",
      "Title_1        889 non-null uint8\n",
      "Title_2        889 non-null uint8\n",
      "Title_3        889 non-null uint8\n",
      "Title_4        889 non-null uint8\n",
      "Title_5        889 non-null uint8\n",
      "Title_6        889 non-null uint8\n",
      "TicketCount    889 non-null int64\n",
      "FamSize        889 non-null int64\n",
      "Single         889 non-null int64\n",
      "SmallFamily    889 non-null int64\n",
      "LargeFamily    889 non-null int64\n",
      "AgeGroup_A     889 non-null uint8\n",
      "AgeGroup_B     889 non-null uint8\n",
      "AgeGroup_C     889 non-null uint8\n",
      "AgeGroup_D     889 non-null uint8\n",
      "AgeGroup_E     889 non-null uint8\n",
      "FareGroup_A    889 non-null uint8\n",
      "FareGroup_B    889 non-null uint8\n",
      "FareGroup_C    889 non-null uint8\n",
      "PClass_1       889 non-null uint8\n",
      "PClass_2       889 non-null uint8\n",
      "PClass_3       889 non-null uint8\n",
      "Embarked_C     889 non-null uint8\n",
      "Embarked_Q     889 non-null uint8\n",
      "Embarked_S     889 non-null uint8\n",
      "Sex_female     889 non-null uint8\n",
      "Sex_male       889 non-null uint8\n",
      "dtypes: float64(2), int64(7), uint8(22)\n",
      "memory usage: 128.6 KB\n"
     ]
    }
   ],
   "source": [
    "cleanedTrainingData = TransformData_V2 (rawTrainingData)\n",
    "yTrain = cleanedTrainingData ['Survived']\n",
    "xTrain = cleanedTrainingData.drop (['Survived', 'PassengerId'], axis=1)\n",
    "cleanedTrainingData.info()"
   ]
  },
  {
   "cell_type": "code",
   "execution_count": 31,
   "metadata": {},
   "outputs": [
    {
     "name": "stdout",
     "output_type": "stream",
     "text": [
      "0.7638406537282941\n"
     ]
    },
    {
     "name": "stderr",
     "output_type": "stream",
     "text": [
      "/Users/dennis/opt/anaconda3/lib/python3.7/site-packages/sklearn/ensemble/forest.py:245: FutureWarning: The default value of n_estimators will change from 10 in version 0.20 to 100 in 0.22.\n",
      "  \"10 in version 0.20 to 100 in 0.22.\", FutureWarning)\n"
     ]
    },
    {
     "name": "stdout",
     "output_type": "stream",
     "text": [
      "0.800932073544433\n",
      "0.8189223697650665\n",
      "0.8132788559754852\n"
     ]
    }
   ],
   "source": [
    "svm_clf = SVC (gamma=\"auto\")\n",
    "svm_clf.fit (xTrain, yTrain)\n",
    "svm_scores = cross_val_score(svm_clf, xTrain, yTrain, cv=10)\n",
    "print (svm_scores.mean())\n",
    "\n",
    "rf_clf = RandomForestClassifier (random_state=0)\n",
    "rf_clf.fit (xTrain, yTrain)\n",
    "rf_scores = cross_val_score (rf_clf, xTrain, yTrain, cv=10)\n",
    "print (rf_scores.mean())\n",
    "\n",
    "logit_clf = LogisticRegression(random_state=0, solver='lbfgs', max_iter=10000)\n",
    "logit_clf.fit (xTrain, yTrain)\n",
    "logit_scores = cross_val_score (logit_clf, xTrain, yTrain, cv=10)\n",
    "print (logit_scores.mean())\n",
    "\n",
    "model = xgb.XGBClassifier()\n",
    "model.fit (xTrain, yTrain)\n",
    "xgbScores = cross_val_score (model, xTrain, yTrain, cv=10)\n",
    "print (xgbScores.mean())"
   ]
  },
  {
   "cell_type": "code",
   "execution_count": 32,
   "metadata": {
    "scrolled": false
   },
   "outputs": [
    {
     "data": {
      "image/png": "[encoded data removed]",
      "text/plain": [
       "<Figure size 720x504 with 1 Axes>"
      ]
     },
     "metadata": {
      "needs_background": "light"
     },
     "output_type": "display_data"
    }
   ],
   "source": [
    "plt.figure(figsize=(10, 7))\n",
    "c = '#dddddd'\n",
    "plt.grid (True, axis='y', zorder=-1)\n",
    "plt.boxplot([svm_scores, rf_scores, logit_scores, xgbScores], \\\n",
    "            labels=(\"SVM\",\"Random Forest\", 'Logistic\\nRegression', 'XGBoost'),\\\n",
    "            patch_artist=True, zorder=1, boxprops=dict(facecolor=c, color=c))\n",
    "plt.plot([1]*10, svm_scores, \"o\")\n",
    "plt.plot([2]*10, rf_scores, \"o\")\n",
    "plt.plot([3]*10, logit_scores, \"o\")\n",
    "plt.plot([4]*10, xgbScores, \"o\")\n",
    "plt.ylim ([0.650, 0.9])\n",
    "plt.ylabel(\"Accuracy\", fontsize=14)\n",
    "plt.show()"
   ]
  },
  {
   "cell_type": "markdown",
   "metadata": {},
   "source": [
    "### Tuning the models..."
   ]
  },
  {
   "cell_type": "code",
   "execution_count": 34,
   "metadata": {},
   "outputs": [],
   "source": [
    "from sklearn.model_selection import GridSearchCV"
   ]
  },
  {
   "cell_type": "code",
   "execution_count": 236,
   "metadata": {},
   "outputs": [
    {
     "name": "stdout",
     "output_type": "stream",
     "text": [
      "Fitting 3 folds for each of 30 candidates, totalling 90 fits\n"
     ]
    },
    {
     "name": "stderr",
     "output_type": "stream",
     "text": [
      "[Parallel(n_jobs=2)]: Using backend LokyBackend with 2 concurrent workers.\n",
      "[Parallel(n_jobs=2)]: Done  46 tasks      | elapsed:  7.9min\n",
      "[Parallel(n_jobs=2)]: Done  90 out of  90 | elapsed: 61.9min finished\n"
     ]
    },
    {
     "name": "stdout",
     "output_type": "stream",
     "text": [
      "Best score: 0.8200224971878515\n",
      "Best estimator: SVC(C=100, cache_size=200, class_weight=None, coef0=0.0,\n",
      "    decision_function_shape='ovr', degree=3, gamma='scale', kernel='linear',\n",
      "    max_iter=-1, probability=False, random_state=None, shrinking=True,\n",
      "    tol=0.001, verbose=False)\n"
     ]
    }
   ],
   "source": [
    "# grid search for SVC\n",
    "\n",
    "parameter_grid = {\n",
    "    'C' : [ 1, 10, 100, 1000, 10000],\n",
    "    'kernel' : ['linear', 'rbf', 'sigmoid'],\n",
    "    'gamma': ['scale', 'auto']\n",
    "    }\n",
    "\n",
    "svm_clf = SVC ()\n",
    "\n",
    "grid_search = GridSearchCV (svm_clf,\n",
    "                            scoring='accuracy',\n",
    "                            param_grid=parameter_grid,\n",
    "                            cv=3,\n",
    "                            n_jobs=2,\n",
    "                            verbose=1)\n",
    "\n",
    "grid_search.fit (xTrain, yTrain)\n",
    "model = grid_search.best_estimator_\n",
    "parameters = grid_search.best_params_\n",
    "\n",
    "print(f'Best score: {grid_search.best_score_}')\n",
    "print(f'Best estimator: {grid_search.best_estimator_}')"
   ]
  },
  {
   "cell_type": "code",
   "execution_count": 237,
   "metadata": {},
   "outputs": [
    {
     "name": "stdout",
     "output_type": "stream",
     "text": [
      "Fitting 3 folds for each of 162 candidates, totalling 486 fits\n"
     ]
    },
    {
     "name": "stderr",
     "output_type": "stream",
     "text": [
      "[Parallel(n_jobs=2)]: Using backend LokyBackend with 2 concurrent workers.\n",
      "[Parallel(n_jobs=2)]: Done  46 tasks      | elapsed:   10.3s\n",
      "[Parallel(n_jobs=2)]: Done 196 tasks      | elapsed:   37.4s\n",
      "[Parallel(n_jobs=2)]: Done 446 tasks      | elapsed:  1.2min\n"
     ]
    },
    {
     "name": "stdout",
     "output_type": "stream",
     "text": [
      "Best score: 0.8357705286839145\n",
      "Best estimator: RandomForestClassifier(bootstrap=True, class_weight=None, criterion='gini',\n",
      "                       max_depth=10, max_features='sqrt', max_leaf_nodes=None,\n",
      "                       min_impurity_decrease=0.0, min_impurity_split=None,\n",
      "                       min_samples_leaf=1, min_samples_split=10,\n",
      "                       min_weight_fraction_leaf=0.0, n_estimators=50, n_jobs=2,\n",
      "                       oob_score=False, random_state=None, verbose=0,\n",
      "                       warm_start=False)\n"
     ]
    },
    {
     "name": "stderr",
     "output_type": "stream",
     "text": [
      "[Parallel(n_jobs=2)]: Done 486 out of 486 | elapsed:  1.3min finished\n"
     ]
    }
   ],
   "source": [
    "# Find the best parameters for the random forest \n",
    "parameter_grid = {\n",
    "    'max_depth' : [8, 10, 12],\n",
    "    'n_estimators': [10, 50, 100],\n",
    "    'max_features': ['sqrt'],\n",
    "    'min_samples_split': [2, 3, 10],\n",
    "    'min_samples_leaf': [1, 3, 10],\n",
    "    'bootstrap': [True, False] }\n",
    "\n",
    "rf_clf = RandomForestClassifier(n_jobs=2)\n",
    "\n",
    "grid_search = GridSearchCV (rf_clf,\n",
    "                            scoring='accuracy',\n",
    "                            param_grid=parameter_grid,\n",
    "                            cv=3,\n",
    "                            n_jobs=2,\n",
    "                            verbose=1)\n",
    "\n",
    "grid_search.fit (xTrain, yTrain)\n",
    "model = grid_search.best_estimator_\n",
    "parameters = grid_search.best_params_\n",
    "\n",
    "print(f'Best score: {grid_search.best_score_}')\n",
    "print(f'Best estimator: {grid_search.best_estimator_}')\n"
   ]
  },
  {
   "cell_type": "code",
   "execution_count": 240,
   "metadata": {},
   "outputs": [
    {
     "name": "stdout",
     "output_type": "stream",
     "text": [
      "Fitting 3 folds for each of 7 candidates, totalling 21 fits\n"
     ]
    },
    {
     "name": "stderr",
     "output_type": "stream",
     "text": [
      "[Parallel(n_jobs=2)]: Using backend LokyBackend with 2 concurrent workers.\n",
      "[Parallel(n_jobs=2)]: Done  18 out of  21 | elapsed:    1.7s remaining:    0.3s\n",
      "[Parallel(n_jobs=2)]: Done  21 out of  21 | elapsed:    2.2s finished\n"
     ]
    },
    {
     "name": "stdout",
     "output_type": "stream",
     "text": [
      "Best score: 0.8177727784026997\n",
      "Best estimator: LogisticRegression(C=1, class_weight=None, dual=False, fit_intercept=True,\n",
      "                   intercept_scaling=1, l1_ratio=None, max_iter=10000,\n",
      "                   multi_class='warn', n_jobs=2, penalty='l2', random_state=0,\n",
      "                   solver='lbfgs', tol=0.0001, verbose=0, warm_start=False)\n"
     ]
    }
   ],
   "source": [
    "# Find the best parameters for logit classifier\n",
    "parameter_grid = {\n",
    "    #'penalty': ['l2', 'elasticnet'],\n",
    "    'C' : [1e-4, 1e-3, 1e-2, 1e-1, 1, 10, 100] }\n",
    "\n",
    "logit_clf = LogisticRegression(random_state=0, solver='lbfgs', max_iter=10000, n_jobs=2)\n",
    "\n",
    "grid_search = GridSearchCV (logit_clf,\n",
    "                            scoring='accuracy',\n",
    "                            param_grid=parameter_grid,\n",
    "                            cv=3,\n",
    "                            n_jobs=2,\n",
    "                            verbose=1)\n",
    "\n",
    "grid_search.fit (xTrain, yTrain)\n",
    "model = grid_search.best_estimator_\n",
    "parameters = grid_search.best_params_\n",
    "\n",
    "print(f'Best score: {grid_search.best_score_}')\n",
    "print(f'Best estimator: {grid_search.best_estimator_}')"
   ]
  },
  {
   "cell_type": "code",
   "execution_count": 239,
   "metadata": {},
   "outputs": [
    {
     "name": "stdout",
     "output_type": "stream",
     "text": [
      "Fitting 3 folds for each of 432 candidates, totalling 1296 fits\n"
     ]
    },
    {
     "name": "stderr",
     "output_type": "stream",
     "text": [
      "[Parallel(n_jobs=2)]: Using backend LokyBackend with 2 concurrent workers.\n",
      "[Parallel(n_jobs=2)]: Done  80 tasks      | elapsed:    3.4s\n",
      "[Parallel(n_jobs=2)]: Done 680 tasks      | elapsed:   25.2s\n"
     ]
    },
    {
     "name": "stdout",
     "output_type": "stream",
     "text": [
      "Best score: 0.84251968503937\n",
      "Best estimator: XGBClassifier(base_score=0.5, booster=None, colsample_bylevel=0.8,\n",
      "              colsample_bynode=1, colsample_bytree=0.6, gamma=0, gpu_id=-1,\n",
      "              importance_type='gain', interaction_constraints=None,\n",
      "              learning_rate=0.300000012, max_delta_step=1, max_depth=7,\n",
      "              min_child_weight=1, missing=nan, monotone_constraints=None,\n",
      "              n_estimators=60, n_jobs=0, num_parallel_tree=1,\n",
      "              objective='binary:logistic', random_state=0, reg_alpha=0,\n",
      "              reg_lambda=1, scale_pos_weight=1, subsample=0.3, tree_method=None,\n",
      "              validate_parameters=False, verbosity=None)\n"
     ]
    },
    {
     "name": "stderr",
     "output_type": "stream",
     "text": [
      "[Parallel(n_jobs=2)]: Done 1296 out of 1296 | elapsed:   47.8s finished\n"
     ]
    }
   ],
   "source": [
    "parameter_grid = {\n",
    "    'max_depth' : [7, 8, 9],\n",
    "    'max_delta_step': [1],\n",
    "    'n_estimators': [20, 40, 60, 80],\n",
    "    'colsample_bylevel': [0.8, 0.9, 1.0],\n",
    "    'colsample_bytree': [0.6, 0.8, 1.0],\n",
    "    'subsample': [0.3, 0.4, 0.5, 0.6],\n",
    "}\n",
    "\n",
    "xgb_clf = xgb.XGBClassifier()\n",
    "\n",
    "grid_search = GridSearchCV (xgb_clf,\n",
    "                            scoring='accuracy',\n",
    "                            param_grid=parameter_grid,\n",
    "                            cv=3,\n",
    "                            n_jobs=2,\n",
    "                            verbose=1)\n",
    "\n",
    "grid_search.fit (xTrain, yTrain)\n",
    "model = grid_search.best_estimator_\n",
    "parameters = grid_search.best_params_\n",
    "\n",
    "print(f'Best score: {grid_search.best_score_}')\n",
    "print(f'Best estimator: {grid_search.best_estimator_}')"
   ]
  },
  {
   "cell_type": "code",
   "execution_count": 41,
   "metadata": {},
   "outputs": [
    {
     "name": "stdout",
     "output_type": "stream",
     "text": [
      "[LibSVM][LibSVM][LibSVM][LibSVM][LibSVM][LibSVM][LibSVM][LibSVM][LibSVM][LibSVM][LibSVM]0.8256767109295199\n"
     ]
    }
   ],
   "source": [
    "#svm_clf = SVC(C=1000, cache_size=200, class_weight=None, coef0=0.0,\n",
    "#    decision_function_shape='ovr', degree=3, gamma='scale', kernel='rbf',\n",
    "#    max_iter=-1, probability=False, random_state=None, shrinking=True,\n",
    "#    tol=0.001, verbose=False)\n",
    "svm_clf = SVC(C=100, cache_size=200, class_weight=None, coef0=0.0,\n",
    "    decision_function_shape='ovr', degree=3, gamma='scale', kernel='linear',\n",
    "    max_iter=-1, probability=False, random_state=None, shrinking=True,\n",
    "    tol=0.001, verbose=True)\n",
    "svm_clf.fit (xTrain, yTrain)\n",
    "svm_scores = cross_val_score(svm_clf, xTrain, yTrain, cv=10)\n",
    "print (svm_scores.mean())"
   ]
  },
  {
   "cell_type": "code",
   "execution_count": 39,
   "metadata": {},
   "outputs": [
    {
     "name": "stdout",
     "output_type": "stream",
     "text": [
      "0.8346271705822268\n"
     ]
    }
   ],
   "source": [
    "#rf_clf = RandomForestClassifier(bootstrap=True, class_weight=None, criterion='gini',\n",
    "#                       max_depth=12, max_features='sqrt', max_leaf_nodes=None,\n",
    "#                       min_impurity_decrease=0.0, min_impurity_split=None,\n",
    "#                       min_samples_leaf=3, min_samples_split=10,\n",
    "#                       min_weight_fraction_leaf=0.0, n_estimators=10, n_jobs=2,\n",
    "#                       oob_score=False, random_state=None, verbose=0,\n",
    "#                       warm_start=False)\n",
    "rf_clf = RandomForestClassifier(bootstrap=True, class_weight=None, criterion='gini',\n",
    "                       max_depth=10, max_features='sqrt', max_leaf_nodes=None,\n",
    "                       min_impurity_decrease=0.0, min_impurity_split=None,\n",
    "                       min_samples_leaf=1, min_samples_split=10,\n",
    "                       min_weight_fraction_leaf=0.0, n_estimators=50, n_jobs=2,\n",
    "                       oob_score=False, random_state=None, verbose=0,\n",
    "                       warm_start=False)\n",
    "rf_clf.fit (xTrain, yTrain)\n",
    "rf_scores = cross_val_score (rf_clf, xTrain, yTrain, cv=10)\n",
    "print (rf_scores.mean())"
   ]
  },
  {
   "cell_type": "code",
   "execution_count": 36,
   "metadata": {},
   "outputs": [
    {
     "name": "stdout",
     "output_type": "stream",
     "text": [
      "0.8200459652706844\n"
     ]
    }
   ],
   "source": [
    "#logit_clf = LogisticRegression(C=0.1, class_weight=None, dual=False, fit_intercept=True,\n",
    "#                   intercept_scaling=1, l1_ratio=None, max_iter=10000,\n",
    "#                   multi_class='warn', n_jobs=2, penalty='l2', random_state=0,\n",
    "#                   solver='lbfgs', tol=0.0001, verbose=0, warm_start=False)\n",
    "logit_clf = LogisticRegression(C=1, class_weight=None, dual=False, fit_intercept=True,\n",
    "                   intercept_scaling=1, l1_ratio=None, max_iter=10000,\n",
    "                   multi_class='warn', n_jobs=2, penalty='l2', random_state=0,\n",
    "                   solver='lbfgs', tol=0.0001, verbose=0, warm_start=False)\n",
    "\n",
    "logit_clf.fit (xTrain, yTrain)\n",
    "logit_scores = cross_val_score (logit_clf, xTrain, yTrain, cv=10)\n",
    "print (logit_scores.mean())"
   ]
  },
  {
   "cell_type": "code",
   "execution_count": 38,
   "metadata": {},
   "outputs": [
    {
     "name": "stdout",
     "output_type": "stream",
     "text": [
      "0.8188840653728293\n"
     ]
    }
   ],
   "source": [
    "#xgb_clf = xgb.XGBClassifier(base_score=0.5, booster=None, colsample_bylevel=0.8,\n",
    "#              colsample_bynode=1, colsample_bytree=0.8, gamma=0, gpu_id=-1,\n",
    "#              importance_type='gain', interaction_constraints=None,\n",
    "#              learning_rate=0.300000012, max_delta_step=1, max_depth=7,\n",
    "#              min_child_weight=1, monotone_constraints=None,\n",
    "#              n_estimators=40, n_jobs=0, num_parallel_tree=1,\n",
    "#              objective='binary:logistic', random_state=0, reg_alpha=0,\n",
    "#              reg_lambda=1, scale_pos_weight=1, subsample=0.3, tree_method=None,\n",
    "#              validate_parameters=False, verbosity=None)\n",
    "xgb_clf = xgb.XGBClassifier(base_score=0.5, booster=None, colsample_bylevel=0.8,\n",
    "              colsample_bynode=1, colsample_bytree=0.6, gamma=0, gpu_id=-1,\n",
    "              importance_type='gain', interaction_constraints=None,\n",
    "              learning_rate=0.300000012, max_delta_step=1, max_depth=7,\n",
    "              min_child_weight=1, missing=np.nan, monotone_constraints=None,\n",
    "              n_estimators=60, n_jobs=0, num_parallel_tree=1,\n",
    "              objective='binary:logistic', random_state=0, reg_alpha=0,\n",
    "              reg_lambda=1, scale_pos_weight=1, subsample=0.3, tree_method=None,\n",
    "              validate_parameters=False, verbosity=None)\n",
    "xgb_clf.fit (xTrain, yTrain)\n",
    "xgbScores = cross_val_score (xgb_clf, xTrain, yTrain, cv=10)\n",
    "print (xgbScores.mean())"
   ]
  },
  {
   "cell_type": "code",
   "execution_count": 42,
   "metadata": {},
   "outputs": [
    {
     "data": {
      "text/plain": [
       "array([0.78651685, 0.82022472, 0.74157303, 0.84269663, 0.84269663,\n",
       "       0.85393258, 0.85393258, 0.79775281, 0.84269663, 0.80681818])"
      ]
     },
     "execution_count": 42,
     "metadata": {},
     "output_type": "execute_result"
    }
   ],
   "source": [
    "xgbScores"
   ]
  },
  {
   "cell_type": "code",
   "execution_count": 44,
   "metadata": {},
   "outputs": [
    {
     "data": {
      "image/png": "[encoded data removed]",
      "text/plain": [
       "<Figure size 720x504 with 1 Axes>"
      ]
     },
     "metadata": {
      "needs_background": "light"
     },
     "output_type": "display_data"
    }
   ],
   "source": [
    "plt.figure(figsize=(10, 7))\n",
    "c = '#dddddd'\n",
    "plt.grid (True, axis='y', zorder=-1)\n",
    "plt.boxplot([svm_scores, rf_scores, logit_scores, xgbScores], \\\n",
    "            labels=(\"SVM\",\"Random Forest\", 'Logistic\\nRegression', 'XGBoost'),\\\n",
    "            patch_artist=True, zorder=1, boxprops=dict(facecolor=c, color=c))\n",
    "plt.plot([1]*10, svm_scores, \"o\")\n",
    "plt.plot([2]*10, rf_scores, \"o\")\n",
    "plt.plot([3]*10, logit_scores, \"o\")\n",
    "plt.plot([4]*10, xgbScores, \"o\")\n",
    "plt.ylim ([0.650, 0.9])\n",
    "plt.ylabel(\"Accuracy\", fontsize=14)\n",
    "plt.show()"
   ]
  },
  {
   "cell_type": "markdown",
   "metadata": {},
   "source": [
    "Lets try out the test data..."
   ]
  },
  {
   "cell_type": "code",
   "execution_count": 45,
   "metadata": {},
   "outputs": [
    {
     "name": "stdout",
     "output_type": "stream",
     "text": [
      "<class 'pandas.core.frame.DataFrame'>\n",
      "Int64Index: 418 entries, 0 to 417\n",
      "Data columns (total 30 columns):\n",
      "PassengerId    418 non-null int64\n",
      "Age            418 non-null float64\n",
      "Fare           418 non-null float64\n",
      "Title_1        418 non-null uint8\n",
      "Title_2        418 non-null uint8\n",
      "Title_3        418 non-null uint8\n",
      "Title_4        418 non-null uint8\n",
      "Title_5        418 non-null uint8\n",
      "Title_6        418 non-null uint8\n",
      "TicketCount    418 non-null int64\n",
      "FamSize        418 non-null int64\n",
      "Single         418 non-null int64\n",
      "SmallFamily    418 non-null int64\n",
      "LargeFamily    418 non-null int64\n",
      "AgeGroup_A     418 non-null uint8\n",
      "AgeGroup_B     418 non-null uint8\n",
      "AgeGroup_C     418 non-null uint8\n",
      "AgeGroup_D     418 non-null uint8\n",
      "AgeGroup_E     418 non-null uint8\n",
      "FareGroup_A    418 non-null uint8\n",
      "FareGroup_B    418 non-null uint8\n",
      "FareGroup_C    418 non-null uint8\n",
      "PClass_1       418 non-null uint8\n",
      "PClass_2       418 non-null uint8\n",
      "PClass_3       418 non-null uint8\n",
      "Embarked_C     418 non-null uint8\n",
      "Embarked_Q     418 non-null uint8\n",
      "Embarked_S     418 non-null uint8\n",
      "Sex_female     418 non-null uint8\n",
      "Sex_male       418 non-null uint8\n",
      "dtypes: float64(2), int64(6), uint8(22)\n",
      "memory usage: 58.4 KB\n"
     ]
    }
   ],
   "source": [
    "cleanedTestingData = TransformData_V2 (rawTestData)\n",
    "\n",
    "cleanedTestingData.info ()"
   ]
  },
  {
   "cell_type": "code",
   "execution_count": 46,
   "metadata": {},
   "outputs": [],
   "source": [
    "xTest = cleanedTestingData.drop (['PassengerId'], axis=1)"
   ]
  },
  {
   "cell_type": "code",
   "execution_count": 47,
   "metadata": {},
   "outputs": [],
   "source": [
    "yPred_svm   = svm_clf.predict (xTest)\n",
    "yPred_logit = logit_clf.predict (xTest)\n",
    "yPred_rf    = rf_clf.predict (xTest)\n",
    "yPred_xgb   = xgb_clf.predict (xTest)"
   ]
  },
  {
   "cell_type": "code",
   "execution_count": 48,
   "metadata": {},
   "outputs": [],
   "source": [
    "output = pd.DataFrame({'PassengerId': cleanedTestingData.PassengerId, 'Survived': yPred_svm})\n",
    "output.to_csv('sub_svm_tuned.csv', index=False)\n",
    "\n",
    "output = pd.DataFrame({'PassengerId': cleanedTestingData.PassengerId, 'Survived': yPred_logit})\n",
    "output.to_csv('sub_logit_tuned.csv', index=False)\n",
    "\n",
    "output = pd.DataFrame({'PassengerId': cleanedTestingData.PassengerId, 'Survived': yPred_rf})\n",
    "output.to_csv('sub_rf_tuned.csv', index=False)\n",
    "\n",
    "output = pd.DataFrame({'PassengerId': cleanedTestingData.PassengerId, 'Survived': yPred_xgb})\n",
    "output.to_csv('sub_xgb_tuned.csv', index=False)"
   ]
  },
  {
   "cell_type": "code",
   "execution_count": null,
   "metadata": {},
   "outputs": [],
   "source": [
    "svm:   0.77033\n",
    "logit: 0.77990\n",
    "rf:    0.76555\n",
    "xgb:   0.71531  "
   ]
  }
 ],
 "metadata": {
  "kernelspec": {
   "display_name": "Python 3",
   "language": "python",
   "name": "python3"
  },
  "language_info": {
   "codemirror_mode": {
    "name": "ipython",
    "version": 3
   },
   "file_extension": ".py",
   "mimetype": "text/x-python",
   "name": "python",
   "nbconvert_exporter": "python",
   "pygments_lexer": "ipython3",
   "version": "3.7.4"
  }
 },
 "nbformat": 4,
 "nbformat_minor": 2
}
